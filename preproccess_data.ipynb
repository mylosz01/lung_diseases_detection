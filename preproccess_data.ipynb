{
 "cells": [
  {
   "cell_type": "markdown",
   "metadata": {},
   "source": [
    "# Import bibliotek"
   ]
  },
  {
   "cell_type": "code",
   "execution_count": 32,
   "metadata": {},
   "outputs": [],
   "source": [
    "import os\n",
    "import shutil\n",
    "import librosa\n",
    "import glob\n",
    "import numpy as np\n",
    "import pandas as pd\n",
    "import matplotlib.pyplot as plt\n",
    "import IPython.display as ipd\n",
    "from PIL import Image"
   ]
  },
  {
   "cell_type": "markdown",
   "metadata": {},
   "source": [
    "Do zbudowania naszego zbioru danych wykorzystamy trzy zbiory:\n",
    "*  KAUH\n",
    "*  ICBHI\n",
    "*  Covid-19"
   ]
  },
  {
   "cell_type": "code",
   "execution_count": 33,
   "metadata": {},
   "outputs": [],
   "source": [
    "# ścieżki do katalogów z danymi\n",
    "RAW_DATA_PATH = \"./Raw_datasets/\"\n",
    "KAUH_DATA_PATH = f\"./{RAW_DATA_PATH}/KAUH_Lung_files\"\n",
    "ICBHI_DATA_PATH = f\"./{RAW_DATA_PATH}/Respiratory_Sound_Database\"\n",
    "COVID_19_DATA_PATH = f\"./{RAW_DATA_PATH}/covid-19_dataset\""
   ]
  },
  {
   "cell_type": "code",
   "execution_count": 34,
   "metadata": {},
   "outputs": [
    {
     "name": "stdout",
     "output_type": "stream",
     "text": [
      "RAW DATA:  True\n",
      "KAUH:  True\n",
      "ICBHI:  True\n",
      "COVID-19:  True\n"
     ]
    }
   ],
   "source": [
    "# Sprawdzanie poprawności ścieżek folderów\n",
    "print(\"RAW DATA: \", os.path.exists(RAW_DATA_PATH))\n",
    "print(\"KAUH: \", os.path.exists(KAUH_DATA_PATH))\n",
    "print(\"ICBHI: \", os.path.exists(ICBHI_DATA_PATH))\n",
    "print(\"COVID-19: \", os.path.exists(COVID_19_DATA_PATH))"
   ]
  },
  {
   "cell_type": "markdown",
   "metadata": {},
   "source": [
    "# Przetwarzanie zbioru ICBHI"
   ]
  },
  {
   "cell_type": "markdown",
   "metadata": {},
   "source": [
    "### Wczytanie danych o chorobach pacjentów"
   ]
  },
  {
   "cell_type": "code",
   "execution_count": null,
   "metadata": {},
   "outputs": [],
   "source": [
    "patient_diseases_info = pd.read_csv(f'./{ICBHI_DATA_PATH}/patient_diagnosis.csv')\n",
    "patient_diseases_info.info()"
   ]
  },
  {
   "cell_type": "code",
   "execution_count": null,
   "metadata": {},
   "outputs": [],
   "source": [
    "unique_diseases_icbhi = patient_diseases_info['Diagnosis'].unique()\n",
    "unique_diseases_icbhi = sorted(unique_diseases_icbhi)\n",
    "print(f'Unikalne nazwy chorób płucnych: {unique_diseases_icbhi}')"
   ]
  },
  {
   "cell_type": "code",
   "execution_count": null,
   "metadata": {},
   "outputs": [],
   "source": [
    "number_of_diseases = patient_diseases_info.groupby(['Diagnosis']).count()\n",
    "print(number_of_diseases.sort_values(by=['PatientID'],ascending=False).rename(columns = {'PatientID':'Ilość pacjentów:'}))\n",
    "plt.figure(figsize=(10,8))\n",
    "plt.pie(number_of_diseases['PatientID'],labels=number_of_diseases.index,autopct='%1.1f%%')\n",
    "plt.title(\"Ilość % chorób w zbiorze ICBHI\")\n",
    "plt.show()"
   ]
  },
  {
   "cell_type": "markdown",
   "metadata": {},
   "source": [
    "### Segregacja plików audio ze względu na choroby "
   ]
  },
  {
   "cell_type": "code",
   "execution_count": null,
   "metadata": {},
   "outputs": [],
   "source": [
    "#Tworzenie głównego folderu z danymi\n",
    "if not os.path.exists('./data'):\n",
    "    print(\"TWORZENIE KATALOGU GŁÓWNEGO\")\n",
    "    os.mkdir(\"./data\")\n",
    "\n",
    "#Tworzenie folderu dla audio\n",
    "if not os.path.exists('./data/audio'):\n",
    "    print(\"TWORZENIE KATALOGU DLA AUDIO\")\n",
    "    os.mkdir(\"./data/audio\")\n",
    "\n",
    "#Tworzenie podfolderów audio\n",
    "for diseas in unique_diseases_icbhi:\n",
    "    if not os.path.exists(f\"./data/audio/{diseas}\"):\n",
    "        print(f\"TWORZENIE PODKATALOGU DLA AUDIO CHOROB : {diseas}\")\n",
    "        os.mkdir(f\"./data/audio/{diseas}\")\n"
   ]
  },
  {
   "cell_type": "code",
   "execution_count": null,
   "metadata": {},
   "outputs": [],
   "source": [
    "#Segregacja plików audio ze względu na choroby\n",
    "for diseas in unique_diseases_icbhi:\n",
    "    print(f'CHOROBA {diseas}')\n",
    "\n",
    "    #Szukanie po chorobie\n",
    "    patient_list = patient_diseases_info[patient_diseases_info['Diagnosis'] == diseas]\n",
    "    print(patient_list)\n",
    "    \n",
    "    for patient_id in patient_list['PatientID']:\n",
    "        patient_files = glob.glob(f'{ICBHI_DATA_PATH}/audio_and_txt_files/{patient_id}*.wav')\n",
    "\n",
    "        print(f'Pliki pacjenta: {patient_files}')\n",
    "\n",
    "        for patient_file in patient_files:\n",
    "            print(\"KOPIOWANIE: \",patient_file)\n",
    "            shutil.copy(patient_file, f'./data/audio/{diseas}')\n",
    "\n",
    "print(\"Pliki zostały posegregowane...\")\n"
   ]
  },
  {
   "cell_type": "code",
   "execution_count": null,
   "metadata": {},
   "outputs": [],
   "source": [
    "#Tworzenie folderu dla spectogramów\n",
    "if not os.path.exists('./data/spectograms'):\n",
    "    print(\"TWORZENIE KATALOGU DLA SPEKTOGRAMÓW\")\n",
    "    os.mkdir(\"./data/spectograms\")\n",
    "\n",
    "#Tworzenie podfolderów spectogramów\n",
    "for diseas in unique_diseases_icbhi:\n",
    "    if not os.path.exists(f\"./data/spectograms/{diseas}\"):\n",
    "        print(f\"TWORZENIE PODKATALOGU DLA SPEKTOGRAMÓW CHOROBY : {diseas}\")\n",
    "        os.mkdir(f\"./data/spectograms/{diseas}\")"
   ]
  },
  {
   "cell_type": "markdown",
   "metadata": {},
   "source": [
    "# Etapy tworzenia spektogramów dla pliku audio"
   ]
  },
  {
   "cell_type": "code",
   "execution_count": null,
   "metadata": {},
   "outputs": [],
   "source": [
    "audio_files = glob.glob('../lung_diseases_detection/data/audio/*/*.wav')\n",
    "audio_files[1]"
   ]
  },
  {
   "cell_type": "code",
   "execution_count": null,
   "metadata": {},
   "outputs": [],
   "source": [
    "# Plik audio\n",
    "ipd.Audio(audio_files[1])"
   ]
  },
  {
   "cell_type": "code",
   "execution_count": null,
   "metadata": {},
   "outputs": [],
   "source": [
    "# Wczytanie pliku\n",
    "wave, sr = librosa.load(audio_files[1])\n",
    "\n",
    "print(f'Wave: {wave[:10]}')\n",
    "print(f'shape Wave: {wave.shape}')\n",
    "print(f'SAMPLE RATE: {sr}')"
   ]
  },
  {
   "cell_type": "code",
   "execution_count": null,
   "metadata": {},
   "outputs": [],
   "source": [
    "#Surowy przebieg pliku\n",
    "pd.Series(wave).plot(figsize=(10, 5),\n",
    "                  lw=1,\n",
    "                  title='Przebieg dźwięku')\n",
    "plt.ylabel('Amplituda')\n",
    "plt.xlabel('Czas')\n",
    "plt.show()\n"
   ]
  },
  {
   "cell_type": "code",
   "execution_count": null,
   "metadata": {},
   "outputs": [],
   "source": [
    "# Korekta ciszy dźwięku w audio\n",
    "wave_trimmed, _ = librosa.effects.trim(wave, top_db=40)\n",
    "pd.Series(wave_trimmed).plot(figsize=(10, 5),\n",
    "                  lw=1,\n",
    "                  title='Korekta ciszy w dźwięku')\n",
    "plt.ylabel('Amplituda')\n",
    "plt.xlabel('Czas')\n",
    "plt.show()"
   ]
  },
  {
   "cell_type": "code",
   "execution_count": null,
   "metadata": {},
   "outputs": [],
   "source": [
    "# Przybliżony przebieg dźwięku\n",
    "pd.Series(wave[30000:30500]).plot(figsize=(10, 5),\n",
    "                  lw=1,\n",
    "                  title='Przybliżony przebieg dźwięku')\n",
    "plt.ylabel('Amplituda')\n",
    "plt.xlabel('Czas')\n",
    "plt.show()"
   ]
  },
  {
   "cell_type": "code",
   "execution_count": null,
   "metadata": {},
   "outputs": [],
   "source": [
    "# Tranformata Fouriera\n",
    "D = librosa.stft(wave)\n",
    "S_db = librosa.amplitude_to_db(np.abs(D), ref=np.max)\n",
    "S_db.shape\n"
   ]
  },
  {
   "cell_type": "code",
   "execution_count": null,
   "metadata": {},
   "outputs": [],
   "source": [
    "# Spektogram z dźwięku\n",
    "fig, ax = plt.subplots(figsize=(10, 5))\n",
    "img = librosa.display.specshow(S_db,\n",
    "                              x_axis='time',\n",
    "                              y_axis='log',\n",
    "                              ax=ax)\n",
    "ax.set_title('Spectogram przykład', fontsize=20)\n",
    "fig.colorbar(img, ax=ax, format=f'%0.2f db')\n",
    "plt.show()"
   ]
  },
  {
   "cell_type": "code",
   "execution_count": null,
   "metadata": {},
   "outputs": [],
   "source": [
    "# Tworzenie spektogramu mel\n",
    "mel_spec = librosa.feature.melspectrogram(y=wave,\n",
    "                                   sr=sr,\n",
    "                                   n_mels=128 * 2,)\n",
    "S_db_mel = librosa.amplitude_to_db(mel_spec, ref=np.max)"
   ]
  },
  {
   "cell_type": "code",
   "execution_count": null,
   "metadata": {},
   "outputs": [],
   "source": [
    "fig, ax = plt.subplots(figsize=(10, 5))\n",
    "# Spektogram mel\n",
    "img = librosa.display.specshow(S_db_mel,\n",
    "                              x_axis='time',\n",
    "                              y_axis='log',\n",
    "                              ax=ax)\n",
    "ax.set_title('Mel Spectogram przykład', fontsize=20)\n",
    "fig.colorbar(img, ax=ax, format=f'%0.2f')\n",
    "plt.show()"
   ]
  },
  {
   "cell_type": "markdown",
   "metadata": {},
   "source": [
    "## Tworzenie dataset'u"
   ]
  },
  {
   "cell_type": "code",
   "execution_count": null,
   "metadata": {},
   "outputs": [],
   "source": [
    "SAMPLE_RATE = 24000\n",
    "CHUNK_LENGTH = 3"
   ]
  },
  {
   "cell_type": "code",
   "execution_count": null,
   "metadata": {},
   "outputs": [],
   "source": [
    "def save_spectogram(spectogram,class_name,file, index = 0):\n",
    "    file_name = file[:-4]\n",
    "    #print(file_name)\n",
    "\n",
    "    #Zapis spektogramu\n",
    "    saved_path = os.path.join(f'./data/spectograms/{class_name}/{file_name}_{index}.png')\n",
    "    print(saved_path)\n",
    "\n",
    "    image = Image.fromarray(spectogram * 255).convert(\"L\")\n",
    "    image.save(saved_path)"
   ]
  },
  {
   "cell_type": "code",
   "execution_count": null,
   "metadata": {},
   "outputs": [],
   "source": [
    "def get_mel_spectograms(filepath,sample_rate=22000,image_shape=(224,224)):\n",
    "    #Wczytanie pliku audio\n",
    "    wave, rate = librosa.load(path = filepath, sr = sample_rate)\n",
    "\n",
    "    #Podział dźwięku na odcinki\n",
    "    signal_splits = []\n",
    "\n",
    "    for i in range(0,len(wave),int(CHUNK_LENGTH * SAMPLE_RATE)):\n",
    "        chunk = wave[i:i + int(CHUNK_LENGTH * SAMPLE_RATE)]\n",
    "\n",
    "        if len(chunk) < int(CHUNK_LENGTH * SAMPLE_RATE):\n",
    "            break\n",
    "        \n",
    "        signal_splits.append(chunk)\n",
    "\n",
    "    #Tworzenie mel spektogramu dla kazdego z odcinka\n",
    "    ready_mel_spectograms = []\n",
    "\n",
    "    for chunk in signal_splits:\n",
    "\n",
    "        mel_spectogram = librosa.feature.melspectrogram(y = chunk,\n",
    "                                                        sr = rate,\n",
    "                                                        n_fft = 1024,\n",
    "                                                        hop_length = 512,\n",
    "                                                        n_mels = image_shape[0] * 1,\n",
    "                                                        fmin = 100,\n",
    "                                                        fmax = 24000)\n",
    "        \n",
    "        mel_spectogram = librosa.amplitude_to_db(mel_spectogram, ref = np.max)\n",
    "        #Normalizacja\n",
    "        mel_spectogram -= mel_spectogram.min()\n",
    "        mel_spectogram /= mel_spectogram.max()\n",
    "\n",
    "        #Dodanie melspektogramu do listy\n",
    "        ready_mel_spectograms.append(mel_spectogram)\n",
    "\n",
    "    return np.array(ready_mel_spectograms)"
   ]
  },
  {
   "cell_type": "code",
   "execution_count": null,
   "metadata": {},
   "outputs": [],
   "source": [
    "def prepare_spectograms():\n",
    "\n",
    "    class_names = os.listdir('./data/audio')\n",
    "    print(f\"Nazwy klas: {class_names}\")\n",
    "\n",
    "    for class_name in class_names:\n",
    "        files_disease = os.listdir(f'./data/audio/{class_name}')\n",
    "\n",
    "        for file in files_disease:\n",
    "            print(f\"{class_name} - > {file}\")\n",
    "\n",
    "            mel_spectograms = get_mel_spectograms(f'./data/audio/{class_name}/{file}', sample_rate = SAMPLE_RATE)\n",
    "\n",
    "            \n",
    "            #Zapis spektogramów\n",
    "            for idx, spec in enumerate(mel_spectograms):\n",
    "                save_spectogram(spectogram = spec, class_name = class_name, file = file,index = idx)            \n",
    "            \n",
    "\n",
    "    print(\"SPEKTOGRAMY ZOSTAŁY PRZYGOTOWANE...\")"
   ]
  },
  {
   "cell_type": "code",
   "execution_count": null,
   "metadata": {},
   "outputs": [],
   "source": [
    "test = get_mel_spectograms('./data/audio/Bronchiectasis/111_1b2_Tc_sc_Meditron.wav')\n",
    "\n",
    "fig, ax = plt.subplots(figsize=(10, 5))\n",
    "# Spektogram mel\n",
    "img = librosa.display.specshow(test[0],\n",
    "                              x_axis='time',\n",
    "                              y_axis='log',\n",
    "                              ax=ax)\n",
    "ax.set_title('Mel Spectogram Example', fontsize=20)\n",
    "fig.colorbar(img, ax=ax, format=f'%0.2f')\n",
    "plt.show()"
   ]
  },
  {
   "cell_type": "markdown",
   "metadata": {},
   "source": [
    "## Przygotowanie spektogramów z plików audio"
   ]
  },
  {
   "cell_type": "code",
   "execution_count": null,
   "metadata": {},
   "outputs": [],
   "source": [
    "prepare_spectograms()"
   ]
  },
  {
   "cell_type": "markdown",
   "metadata": {},
   "source": [
    " # Przygotowanie danych ze zbioru KAUH"
   ]
  },
  {
   "cell_type": "code",
   "execution_count": null,
   "metadata": {},
   "outputs": [],
   "source": [
    "kauh_dataset = pd.read_excel(f'{KAUH_DATA_PATH}/Data annotation.xlsx',usecols=range(5))\n",
    "kauh_dataset.info()"
   ]
  },
  {
   "cell_type": "code",
   "execution_count": null,
   "metadata": {},
   "outputs": [],
   "source": [
    "unique_diseases_kauh = kauh_dataset['Diagnosis'].unique()\n",
    "\n",
    "print(unique_diseases_kauh)"
   ]
  },
  {
   "cell_type": "code",
   "execution_count": null,
   "metadata": {},
   "outputs": [],
   "source": [
    "diseases_kauh_count = kauh_dataset.groupby('Diagnosis').count()\n",
    "print(diseases_kauh_count['Age'].sort_values(ascending=False))"
   ]
  },
  {
   "cell_type": "markdown",
   "metadata": {},
   "source": [
    "## Segregowanie danych"
   ]
  },
  {
   "cell_type": "code",
   "execution_count": null,
   "metadata": {},
   "outputs": [],
   "source": [
    "kauh_disease_dir = {'Asthma': ['Asthma','Asthma and lung fibrosis','asthma'],\n",
    "                    'Bronchiectasis' : ['BRON'],\n",
    "                    'COPD': ['COPD','copd'],\n",
    "                    'Heart_Failure': ['heart failure','Heart Failure','Heart Failure + COPD'],\n",
    "                    'Healthy': ['N'],\n",
    "                    'Pneumonia' : ['pneumonia']}\n",
    "\n",
    "kauh_disease_file_list = {'Asthma': [],\n",
    "                        'Bronchiectasis' : [],\n",
    "                        'COPD': [],\n",
    "                        'Heart_Failure': [],\n",
    "                        'Healthy': [],\n",
    "                        'Pneumonia' : []}"
   ]
  },
  {
   "cell_type": "code",
   "execution_count": null,
   "metadata": {},
   "outputs": [],
   "source": [
    "import re\n",
    "\n",
    "kauh_files = os.listdir(f'{KAUH_DATA_PATH}/Audio Files/')\n",
    "\n",
    "#print(kauh_files)\n",
    "\n",
    "for key_category, diseases_list in kauh_disease_dir.items():\n",
    "    print(f'Category -> {key_category}')\n",
    "\n",
    "    for disease in diseases_list:\n",
    "        print(f'\\t -> : {disease}')\n",
    "\n",
    "        #Segregowanie plików audio ze względu na nazwy\n",
    "        find_names = []\n",
    "        \n",
    "        for file in kauh_files:\n",
    "            is_find = re.search(f\"_{disease},\",file)\n",
    "\n",
    "            if is_find != None:\n",
    "                print(f' --> {file}')\n",
    "                kauh_disease_file_list[key_category].append(file)\n",
    "\n",
    "#for key_category, diseases_list in kauh_disease_file_list.items():\n",
    "#   print(diseases_list)"
   ]
  },
  {
   "cell_type": "markdown",
   "metadata": {},
   "source": [
    "## Tworzenie dataset'u"
   ]
  },
  {
   "cell_type": "code",
   "execution_count": null,
   "metadata": {},
   "outputs": [],
   "source": [
    "# Tworzenie nowych podfolderów\n",
    "for diseas in kauh_disease_dir.keys():\n",
    "    if not os.path.exists(f\"./data/audio/{diseas}\"):\n",
    "        print(f\"TWORZENIE PODKATALOGU DLA SPEKTOGRAMÓW CHOROBY : {diseas}\")\n",
    "        os.mkdir(f\"./data/audio/{diseas}\")"
   ]
  },
  {
   "cell_type": "code",
   "execution_count": null,
   "metadata": {},
   "outputs": [],
   "source": [
    "# Kopiowanie plików do odpowiednich folderów\n",
    "\n",
    "for key_category, diseases__file_list in kauh_disease_file_list.items():\n",
    "\n",
    "    for file in diseases__file_list:\n",
    "\n",
    "        print(f'COPY: {KAUH_DATA_PATH}/Audio Files/{file} -> ./data/audio/{key_category}')\n",
    "        shutil.copy(src = f'{KAUH_DATA_PATH}/Audio Files/{file}', dst = f'./data/audio/{key_category}')"
   ]
  },
  {
   "cell_type": "markdown",
   "metadata": {},
   "source": [
    "### Tworzenie spektogramów"
   ]
  },
  {
   "cell_type": "code",
   "execution_count": null,
   "metadata": {},
   "outputs": [],
   "source": [
    "prepare_spectograms()"
   ]
  },
  {
   "cell_type": "markdown",
   "metadata": {},
   "source": [
    "# Przygotowanie danych dla zbioru Covid-19"
   ]
  },
  {
   "cell_type": "code",
   "execution_count": 48,
   "metadata": {},
   "outputs": [
    {
     "name": "stdout",
     "output_type": "stream",
     "text": [
      "<class 'pandas.core.frame.DataFrame'>\n",
      "RangeIndex: 27550 entries, 0 to 27549\n",
      "Data columns (total 51 columns):\n",
      " #   Column                 Non-Null Count  Dtype  \n",
      "---  ------                 --------------  -----  \n",
      " 0   uuid                   27550 non-null  object \n",
      " 1   datetime               27550 non-null  object \n",
      " 2   cough_detected         27550 non-null  float64\n",
      " 3   SNR                    27550 non-null  float64\n",
      " 4   latitude               16084 non-null  float64\n",
      " 5   longitude              16084 non-null  float64\n",
      " 6   age                    15218 non-null  float64\n",
      " 7   gender                 16224 non-null  object \n",
      " 8   respiratory_condition  16224 non-null  object \n",
      " 9   fever_muscle_pain      16224 non-null  object \n",
      " 10  status                 16224 non-null  object \n",
      " 11  quality_1              820 non-null    object \n",
      " 12  cough_type_1           802 non-null    object \n",
      " 13  dyspnea_1              820 non-null    object \n",
      " 14  wheezing_1             820 non-null    object \n",
      " 15  stridor_1              820 non-null    object \n",
      " 16  choking_1              820 non-null    object \n",
      " 17  congestion_1           820 non-null    object \n",
      " 18  nothing_1              820 non-null    object \n",
      " 19  diagnosis_1            802 non-null    object \n",
      " 20  severity_1             802 non-null    object \n",
      " 21  quality_2              820 non-null    object \n",
      " 22  cough_type_2           801 non-null    object \n",
      " 23  dyspnea_2              820 non-null    object \n",
      " 24  wheezing_2             820 non-null    object \n",
      " 25  stridor_2              820 non-null    object \n",
      " 26  choking_2              820 non-null    object \n",
      " 27  congestion_2           820 non-null    object \n",
      " 28  nothing_2              820 non-null    object \n",
      " 29  diagnosis_2            802 non-null    object \n",
      " 30  severity_2             802 non-null    object \n",
      " 31  quality_3              820 non-null    object \n",
      " 32  cough_type_3           795 non-null    object \n",
      " 33  dyspnea_3              820 non-null    object \n",
      " 34  wheezing_3             820 non-null    object \n",
      " 35  stridor_3              820 non-null    object \n",
      " 36  choking_3              820 non-null    object \n",
      " 37  congestion_3           820 non-null    object \n",
      " 38  nothing_3              820 non-null    object \n",
      " 39  diagnosis_3            792 non-null    object \n",
      " 40  severity_3             795 non-null    object \n",
      " 41  quality_4              820 non-null    object \n",
      " 42  cough_type_4           801 non-null    object \n",
      " 43  dyspnea_4              820 non-null    object \n",
      " 44  wheezing_4             820 non-null    object \n",
      " 45  stridor_4              820 non-null    object \n",
      " 46  choking_4              820 non-null    object \n",
      " 47  congestion_4           820 non-null    object \n",
      " 48  nothing_4              820 non-null    object \n",
      " 49  diagnosis_4            789 non-null    object \n",
      " 50  severity_4             799 non-null    object \n",
      "dtypes: float64(5), object(46)\n",
      "memory usage: 10.7+ MB\n"
     ]
    }
   ],
   "source": [
    "covid_19_dataset = pd.read_csv(f'{COVID_19_DATA_PATH}/metadata_compiled.csv')\n",
    "covid_19_dataset.info()"
   ]
  },
  {
   "cell_type": "code",
   "execution_count": 49,
   "metadata": {},
   "outputs": [],
   "source": [
    "# Pobranie kolumn z indetyfikatorem pliku oraz statusem\n",
    "covid_19_dataset_prep = covid_19_dataset[['uuid','status']]"
   ]
  },
  {
   "cell_type": "code",
   "execution_count": 50,
   "metadata": {},
   "outputs": [
    {
     "name": "stdout",
     "output_type": "stream",
     "text": [
      "Wyświetlenie ilość poszczególnych przypadków:\n",
      "              uuid\n",
      "status            \n",
      "COVID-19      1155\n",
      "healthy      12479\n",
      "symptomatic   2590\n",
      "\n",
      "Ilość danych w których pole status jest puste:\n",
      "uuid          0\n",
      "status    11326\n",
      "dtype: int64\n",
      "\n",
      "Po usunięciu pustych pól:\n",
      "uuid      0\n",
      "status    0\n",
      "dtype: int64\n"
     ]
    }
   ],
   "source": [
    "# Usuwanie pustych krotek\n",
    "print(\"Wyświetlenie ilość poszczególnych przypadków:\")\n",
    "print(covid_19_dataset_prep.groupby('status').count())\n",
    "print(\"\\nIlość danych w których pole status jest puste:\")\n",
    "print(covid_19_dataset_prep.isnull().sum())\n",
    "\n",
    "covid_19_dataset_prep = covid_19_dataset_prep.dropna()\n",
    "\n",
    "print(\"\\nPo usunięciu pustych pól:\")\n",
    "print(covid_19_dataset_prep.isnull().sum())"
   ]
  },
  {
   "cell_type": "code",
   "execution_count": 38,
   "metadata": {},
   "outputs": [
    {
     "name": "stdout",
     "output_type": "stream",
     "text": [
      "['healthy' 'COVID-19' 'symptomatic']\n"
     ]
    }
   ],
   "source": [
    "# Wyłuskanie unikalnych nazw statusu\n",
    "covid_19_labels_diseases = covid_19_dataset_prep['status'].unique()\n",
    "\n",
    "print(covid_19_labels_diseases)"
   ]
  },
  {
   "cell_type": "code",
   "execution_count": 39,
   "metadata": {},
   "outputs": [],
   "source": [
    "# Tworzenie podfolderów\n",
    "for diseas in covid_19_labels_diseases:\n",
    "    diseas = diseas.capitalize()\n",
    "    if not os.path.exists(f\"./data/audio/{diseas}\"):\n",
    "        print(f\"TWORZENIE PODKATALOGU DLA AUDIO CHOROBY : {diseas}\")\n",
    "        os.mkdir(f\"./data/audio/{diseas}\")"
   ]
  },
  {
   "cell_type": "code",
   "execution_count": 40,
   "metadata": {},
   "outputs": [],
   "source": [
    "# Zmiany nazw wartości\n",
    "covid_19_dataset_prep.loc[covid_19_dataset_prep[\"status\"] == \"healthy\",\"status\"] = \"Healthy\"\n",
    "covid_19_dataset_prep.loc[covid_19_dataset_prep[\"status\"] == \"symptomatic\",\"status\"] = \"Symptomatic\""
   ]
  },
  {
   "cell_type": "code",
   "execution_count": 47,
   "metadata": {},
   "outputs": [
    {
     "ename": "KeyError",
     "evalue": "'status'",
     "output_type": "error",
     "traceback": [
      "\u001b[1;31m---------------------------------------------------------------------------\u001b[0m",
      "\u001b[1;31mKeyError\u001b[0m                                  Traceback (most recent call last)",
      "File \u001b[1;32me:\\Anaconda\\envs\\detect\\lib\\site-packages\\pandas\\core\\indexes\\base.py:3791\u001b[0m, in \u001b[0;36mIndex.get_loc\u001b[1;34m(self, key)\u001b[0m\n\u001b[0;32m   3790\u001b[0m \u001b[38;5;28;01mtry\u001b[39;00m:\n\u001b[1;32m-> 3791\u001b[0m     \u001b[38;5;28;01mreturn\u001b[39;00m \u001b[38;5;28;43mself\u001b[39;49m\u001b[38;5;241;43m.\u001b[39;49m\u001b[43m_engine\u001b[49m\u001b[38;5;241;43m.\u001b[39;49m\u001b[43mget_loc\u001b[49m\u001b[43m(\u001b[49m\u001b[43mcasted_key\u001b[49m\u001b[43m)\u001b[49m\n\u001b[0;32m   3792\u001b[0m \u001b[38;5;28;01mexcept\u001b[39;00m \u001b[38;5;167;01mKeyError\u001b[39;00m \u001b[38;5;28;01mas\u001b[39;00m err:\n",
      "File \u001b[1;32mindex.pyx:152\u001b[0m, in \u001b[0;36mpandas._libs.index.IndexEngine.get_loc\u001b[1;34m()\u001b[0m\n",
      "File \u001b[1;32mindex.pyx:181\u001b[0m, in \u001b[0;36mpandas._libs.index.IndexEngine.get_loc\u001b[1;34m()\u001b[0m\n",
      "File \u001b[1;32mpandas\\_libs\\hashtable_class_helper.pxi:7080\u001b[0m, in \u001b[0;36mpandas._libs.hashtable.PyObjectHashTable.get_item\u001b[1;34m()\u001b[0m\n",
      "File \u001b[1;32mpandas\\_libs\\hashtable_class_helper.pxi:7088\u001b[0m, in \u001b[0;36mpandas._libs.hashtable.PyObjectHashTable.get_item\u001b[1;34m()\u001b[0m\n",
      "\u001b[1;31mKeyError\u001b[0m: 'status'",
      "\nThe above exception was the direct cause of the following exception:\n",
      "\u001b[1;31mKeyError\u001b[0m                                  Traceback (most recent call last)",
      "Cell \u001b[1;32mIn[47], line 4\u001b[0m\n\u001b[0;32m      1\u001b[0m \u001b[38;5;66;03m# Ograniczenie liczby plików\u001b[39;00m\n\u001b[0;32m      2\u001b[0m liczba_graniczna \u001b[38;5;241m=\u001b[39m \u001b[38;5;241m400\u001b[39m\n\u001b[1;32m----> 4\u001b[0m covid_19_Healthy \u001b[38;5;241m=\u001b[39m covid_19_dataset_prep[\u001b[43mcovid_19_dataset_prep\u001b[49m\u001b[43m[\u001b[49m\u001b[38;5;124;43m\"\u001b[39;49m\u001b[38;5;124;43mstatus\u001b[39;49m\u001b[38;5;124;43m\"\u001b[39;49m\u001b[43m]\u001b[49m \u001b[38;5;241m==\u001b[39m \u001b[38;5;124m\"\u001b[39m\u001b[38;5;124mHealthy\u001b[39m\u001b[38;5;124m\"\u001b[39m][:liczba_graniczna]\n\u001b[0;32m      5\u001b[0m covid_19_Symptomatic \u001b[38;5;241m=\u001b[39m covid_19_dataset_prep[covid_19_dataset_prep[\u001b[38;5;124m\"\u001b[39m\u001b[38;5;124mstatus\u001b[39m\u001b[38;5;124m\"\u001b[39m] \u001b[38;5;241m==\u001b[39m \u001b[38;5;124m\"\u001b[39m\u001b[38;5;124mSymptomatic\u001b[39m\u001b[38;5;124m\"\u001b[39m][:liczba_graniczna]\n\u001b[0;32m      6\u001b[0m covid_19_Covid_19 \u001b[38;5;241m=\u001b[39m covid_19_dataset_prep[covid_19_dataset_prep[\u001b[38;5;124m\"\u001b[39m\u001b[38;5;124mstatus\u001b[39m\u001b[38;5;124m\"\u001b[39m] \u001b[38;5;241m==\u001b[39m \u001b[38;5;124m\"\u001b[39m\u001b[38;5;124mCOVID-19\u001b[39m\u001b[38;5;124m\"\u001b[39m][:liczba_graniczna]\n",
      "File \u001b[1;32me:\\Anaconda\\envs\\detect\\lib\\site-packages\\pandas\\core\\frame.py:3893\u001b[0m, in \u001b[0;36mDataFrame.__getitem__\u001b[1;34m(self, key)\u001b[0m\n\u001b[0;32m   3891\u001b[0m \u001b[38;5;28;01mif\u001b[39;00m \u001b[38;5;28mself\u001b[39m\u001b[38;5;241m.\u001b[39mcolumns\u001b[38;5;241m.\u001b[39mnlevels \u001b[38;5;241m>\u001b[39m \u001b[38;5;241m1\u001b[39m:\n\u001b[0;32m   3892\u001b[0m     \u001b[38;5;28;01mreturn\u001b[39;00m \u001b[38;5;28mself\u001b[39m\u001b[38;5;241m.\u001b[39m_getitem_multilevel(key)\n\u001b[1;32m-> 3893\u001b[0m indexer \u001b[38;5;241m=\u001b[39m \u001b[38;5;28;43mself\u001b[39;49m\u001b[38;5;241;43m.\u001b[39;49m\u001b[43mcolumns\u001b[49m\u001b[38;5;241;43m.\u001b[39;49m\u001b[43mget_loc\u001b[49m\u001b[43m(\u001b[49m\u001b[43mkey\u001b[49m\u001b[43m)\u001b[49m\n\u001b[0;32m   3894\u001b[0m \u001b[38;5;28;01mif\u001b[39;00m is_integer(indexer):\n\u001b[0;32m   3895\u001b[0m     indexer \u001b[38;5;241m=\u001b[39m [indexer]\n",
      "File \u001b[1;32me:\\Anaconda\\envs\\detect\\lib\\site-packages\\pandas\\core\\indexes\\base.py:3798\u001b[0m, in \u001b[0;36mIndex.get_loc\u001b[1;34m(self, key)\u001b[0m\n\u001b[0;32m   3793\u001b[0m     \u001b[38;5;28;01mif\u001b[39;00m \u001b[38;5;28misinstance\u001b[39m(casted_key, \u001b[38;5;28mslice\u001b[39m) \u001b[38;5;129;01mor\u001b[39;00m (\n\u001b[0;32m   3794\u001b[0m         \u001b[38;5;28misinstance\u001b[39m(casted_key, abc\u001b[38;5;241m.\u001b[39mIterable)\n\u001b[0;32m   3795\u001b[0m         \u001b[38;5;129;01mand\u001b[39;00m \u001b[38;5;28many\u001b[39m(\u001b[38;5;28misinstance\u001b[39m(x, \u001b[38;5;28mslice\u001b[39m) \u001b[38;5;28;01mfor\u001b[39;00m x \u001b[38;5;129;01min\u001b[39;00m casted_key)\n\u001b[0;32m   3796\u001b[0m     ):\n\u001b[0;32m   3797\u001b[0m         \u001b[38;5;28;01mraise\u001b[39;00m InvalidIndexError(key)\n\u001b[1;32m-> 3798\u001b[0m     \u001b[38;5;28;01mraise\u001b[39;00m \u001b[38;5;167;01mKeyError\u001b[39;00m(key) \u001b[38;5;28;01mfrom\u001b[39;00m \u001b[38;5;21;01merr\u001b[39;00m\n\u001b[0;32m   3799\u001b[0m \u001b[38;5;28;01mexcept\u001b[39;00m \u001b[38;5;167;01mTypeError\u001b[39;00m:\n\u001b[0;32m   3800\u001b[0m     \u001b[38;5;66;03m# If we have a listlike key, _check_indexing_error will raise\u001b[39;00m\n\u001b[0;32m   3801\u001b[0m     \u001b[38;5;66;03m#  InvalidIndexError. Otherwise we fall through and re-raise\u001b[39;00m\n\u001b[0;32m   3802\u001b[0m     \u001b[38;5;66;03m#  the TypeError.\u001b[39;00m\n\u001b[0;32m   3803\u001b[0m     \u001b[38;5;28mself\u001b[39m\u001b[38;5;241m.\u001b[39m_check_indexing_error(key)\n",
      "\u001b[1;31mKeyError\u001b[0m: 'status'"
     ]
    }
   ],
   "source": [
    "# Ograniczenie liczby plików\n",
    "liczba_graniczna = 400\n",
    "\n",
    "covid_19_Healthy = covid_19_dataset_prep[covid_19_dataset_prep[\"status\"] == \"Healthy\"][:liczba_graniczna]\n",
    "covid_19_Symptomatic = covid_19_dataset_prep[covid_19_dataset_prep[\"status\"] == \"Symptomatic\"][:liczba_graniczna]\n",
    "covid_19_Covid_19 = covid_19_dataset_prep[covid_19_dataset_prep[\"status\"] == \"COVID-19\"][:liczba_graniczna]\n",
    "print(covid_19_Covid_19)\n",
    "print(len(covid_19_Covid_19))\n",
    "\n",
    "covid_19_dataset_prep = pd.DataFrame(covid_19_Healthy,covid_19_Symptomatic,covid_19_Covid_19)\n",
    "print(len(covid_19_dataset_prep))"
   ]
  },
  {
   "cell_type": "code",
   "execution_count": null,
   "metadata": {},
   "outputs": [],
   "source": [
    "covid_19_pre_ready = covid_19_dataset_prep\n",
    "\n",
    "# Kopiowanie plików\n",
    "for index, row in covid_19_pre_ready.iterrows():\n",
    "    print(row['uuid'], row['status'])\n",
    "\n",
    "    try:\n",
    "        file_name = f\"{row['uuid']}.webm\"\n",
    "        \n",
    "        print(f\"COPY : {COVID_19_DATA_PATH}/{file_name} -> ./data/audio/{row['status']}/{file_name}\")\n",
    "        shutil.copy(src = f'{COVID_19_DATA_PATH}/{file_name}', dst = f'./data/audio/{row[\"status\"]}/')\n",
    "    except FileNotFoundError:\n",
    "\n",
    "        try:\n",
    "            file_name = f\"{row['uuid']}.ogg\"\n",
    "        \n",
    "            print(f\"COPY : {COVID_19_DATA_PATH}/{file_name} -> ./data/audio/{row['status']}/{file_name}\")\n",
    "            shutil.copy(src = f'{COVID_19_DATA_PATH}/{file_name}', dst = f'./data/audio/{row[\"status\"]}/')\n",
    "        except Exception:\n",
    "            pass"
   ]
  }
 ],
 "metadata": {
  "kernelspec": {
   "display_name": "detect",
   "language": "python",
   "name": "python3"
  },
  "language_info": {
   "codemirror_mode": {
    "name": "ipython",
    "version": 3
   },
   "file_extension": ".py",
   "mimetype": "text/x-python",
   "name": "python",
   "nbconvert_exporter": "python",
   "pygments_lexer": "ipython3",
   "version": "3.10.13"
  }
 },
 "nbformat": 4,
 "nbformat_minor": 2
}
